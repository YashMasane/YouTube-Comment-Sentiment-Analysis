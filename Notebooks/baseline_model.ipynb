{
 "cells": [
  {
   "cell_type": "markdown",
   "id": "11b707e5",
   "metadata": {},
   "source": [
    "# **Baseline Model**"
   ]
  },
  {
   "cell_type": "markdown",
   "id": "1a3cb2b9",
   "metadata": {},
   "source": []
  }
 ],
 "metadata": {
  "language_info": {
   "name": "python"
  }
 },
 "nbformat": 4,
 "nbformat_minor": 5
}
